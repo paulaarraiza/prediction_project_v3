{
 "cells": [
  {
   "cell_type": "markdown",
   "id": "2661e979-0563-4dd7-92d9-b306f716aa42",
   "metadata": {},
   "source": [
    "## **This code aims to generate horizontal dataframes**\n"
   ]
  },
  {
   "cell_type": "code",
   "execution_count": 1,
   "id": "963db0d0-c197-43b5-843f-d2865393d9c3",
   "metadata": {},
   "outputs": [],
   "source": [
    "import pandas as pd\n",
    "import numpy as np\n",
    "import os\n",
    "from sklearn.preprocessing import StandardScaler\n",
    "from sklearn.preprocessing import MinMaxScaler"
   ]
  },
  {
   "cell_type": "code",
   "execution_count": 2,
   "id": "2b8c8d27-5edd-49eb-89d5-a2682239ab29",
   "metadata": {},
   "outputs": [],
   "source": [
    "project_dir = \"/home/jupyter-tfg2425paula/prediction_project_v3\"\n",
    "os.chdir(project_dir)\n",
    "\n",
    "clean_data_dir = os.path.join(project_dir, \"00_data/clean\")\n",
    "horizontal_structure_data_dir = os.path.join(project_dir, \"00_data/horizontal_structure\")\n",
    "pca_data_dir = os.path.join(project_dir, \"00_data/pca\")"
   ]
  },
  {
   "cell_type": "code",
   "execution_count": 3,
   "id": "5dece34c-54c0-4aaa-8e17-4400f3fbabc9",
   "metadata": {},
   "outputs": [],
   "source": [
    "def scale_data(df, selected_scale_cols, scaling_method):\n",
    "    \"\"\"\n",
    "    Scales specified columns in a DataFrame using the specified scaling method.\n",
    "    \n",
    "    Args:\n",
    "        df (pd.DataFrame): The input DataFrame.\n",
    "        selected_cols (list): A list of column names to scale.\n",
    "        scaling_method (str): The scaling method to use (\"standard\" or \"minmax\"). Default is \"standard\".\n",
    "    \n",
    "    Returns:\n",
    "        pd.DataFrame: The DataFrame with specified columns scaled.\n",
    "    \"\"\"\n",
    "    \n",
    "    if scaling_method is not None:\n",
    "        if scaling_method == \"standard\":\n",
    "            scaler = StandardScaler()\n",
    "        elif scaling_method == \"minmax\":\n",
    "            scaler = MinMaxScaler()\n",
    "        else:\n",
    "            raise ValueError(\"Invalid scaling method. Choose 'standard' or 'minmax'.\")\n",
    "\n",
    "        df[selected_scale_cols] = df[selected_scale_cols].apply(pd.to_numeric, errors=\"coerce\")\n",
    "        \n",
    "        # Scale only the selected columns\n",
    "        df_scaled = df.copy()\n",
    "        # Replace infinite values with NaN\n",
    "        df[selected_scale_cols].replace([np.inf, -np.inf], np.nan, inplace=True)\n",
    "\n",
    "        # Optionally fill NaN with column mean or median\n",
    "        df[selected_scale_cols].fillna(df[selected_scale_cols].mean(), inplace=True)\n",
    "\n",
    "        df_scaled[selected_scale_cols] = scaler.fit_transform(df[selected_scale_cols])\n",
    "    \n",
    "    else:\n",
    "        df_scaled = df\n",
    "        \n",
    "    return df_scaled"
   ]
  },
  {
   "cell_type": "code",
   "execution_count": 4,
   "id": "fbe3762b-9594-4b29-9932-3a3947cfc379",
   "metadata": {},
   "outputs": [],
   "source": [
    "def split_dataframe(df, target_column, window_size):\n",
    "    \"\"\"\n",
    "    Splits the DataFrame into sequential portions of size `window_size`.\n",
    "\n",
    "    Parameters:\n",
    "    df (pd.DataFrame): The input DataFrame to be split.\n",
    "    target_column (str): Name of the target column that indicates future changes.\n",
    "    window_size (int): The size of each sequential portion.\n",
    "\n",
    "    Returns:\n",
    "    list: A list of DataFrames, each of size `window_size`.\n",
    "    list: Corresponding targets for each sequential portion.\n",
    "    \"\"\"\n",
    "    sequential_data = []\n",
    "    targets = []\n",
    "\n",
    "    for i in range(len(df) - window_size + 1):\n",
    "        window = df.iloc[i:i + window_size].copy()  # Selects a window of size `window_size`\n",
    "        target = df.iloc[i + window_size - 1][target_column]  # Target is the last value in the window\n",
    "        sequential_data.append(window)\n",
    "        targets.append(target)\n",
    "\n",
    "    return sequential_data, targets"
   ]
  },
  {
   "cell_type": "code",
   "execution_count": 5,
   "id": "6d490181-7c8d-403d-aded-0b0a91b43ab6",
   "metadata": {},
   "outputs": [],
   "source": [
    "def create_sequential_dataframe(sequential_data, targets):\n",
    "    \"\"\"\n",
    "    Creates a reshaped DataFrame where each row contains sequential data for each feature\n",
    "    and a corresponding target value.\n",
    "\n",
    "    Parameters:\n",
    "    sequential_data (list): List of DataFrames representing sequential data portions.\n",
    "    targets (list): List of target values corresponding to each sequence.\n",
    "\n",
    "    Returns:\n",
    "    pd.DataFrame: Reshaped DataFrame with each row containing sequential data for each feature\n",
    "                  and the corresponding target value.\n",
    "    \"\"\"\n",
    "    reshaped_rows = []\n",
    "\n",
    "    for i, window_df in enumerate(sequential_data):\n",
    "        row_data = {}\n",
    "        # Iterate over columns (features) in the window\n",
    "        for col in window_df.columns:\n",
    "            # Create a new column for each feature across the window size\n",
    "            row_data[col] = pd.Series(window_df[col].values)\n",
    "\n",
    "        # Add the corresponding target for the sequence\n",
    "        row_data['Target'] = targets[i]\n",
    "\n",
    "        reshaped_rows.append(row_data)\n",
    "\n",
    "    # Convert to DataFrame\n",
    "    reshaped_df = pd.DataFrame(reshaped_rows)\n",
    "    return reshaped_df"
   ]
  },
  {
   "cell_type": "code",
   "execution_count": 11,
   "id": "0ec17bc9-ce49-4146-a040-22dcfe73b0c3",
   "metadata": {},
   "outputs": [],
   "source": [
    "types_securities = [\"technical\"]\n",
    "stocks = ['SPX']\n",
    "stocks = ['AAPL', 'MSFT', 'AMZN', 'NVDA']\n",
    "years = [\"10y\"]"
   ]
  },
  {
   "cell_type": "code",
   "execution_count": 12,
   "id": "977dbea1-2e57-484b-9a17-b834aec46d9d",
   "metadata": {
    "tags": []
   },
   "outputs": [
    {
     "name": "stderr",
     "output_type": "stream",
     "text": [
      "/tmp/ipykernel_56338/149702454.py:27: SettingWithCopyWarning: \n",
      "A value is trying to be set on a copy of a slice from a DataFrame\n",
      "\n",
      "See the caveats in the documentation: https://pandas.pydata.org/pandas-docs/stable/user_guide/indexing.html#returning-a-view-versus-a-copy\n",
      "  df[selected_scale_cols].replace([np.inf, -np.inf], np.nan, inplace=True)\n",
      "/tmp/ipykernel_56338/149702454.py:30: SettingWithCopyWarning: \n",
      "A value is trying to be set on a copy of a slice from a DataFrame\n",
      "\n",
      "See the caveats in the documentation: https://pandas.pydata.org/pandas-docs/stable/user_guide/indexing.html#returning-a-view-versus-a-copy\n",
      "  df[selected_scale_cols].fillna(df[selected_scale_cols].mean(), inplace=True)\n"
     ]
    },
    {
     "name": "stdout",
     "output_type": "stream",
     "text": [
      "technical, AAPL, 10y, 500\n",
      "/home/jupyter-tfg2425paula/prediction_project_v3/00_data/horizontal_structure/clean/technical/AAPL/10y_500_data.pkl\n",
      "technical, AAPL, 10y, 1000\n",
      "/home/jupyter-tfg2425paula/prediction_project_v3/00_data/horizontal_structure/clean/technical/AAPL/10y_1000_data.pkl\n"
     ]
    },
    {
     "name": "stderr",
     "output_type": "stream",
     "text": [
      "/tmp/ipykernel_56338/149702454.py:27: SettingWithCopyWarning: \n",
      "A value is trying to be set on a copy of a slice from a DataFrame\n",
      "\n",
      "See the caveats in the documentation: https://pandas.pydata.org/pandas-docs/stable/user_guide/indexing.html#returning-a-view-versus-a-copy\n",
      "  df[selected_scale_cols].replace([np.inf, -np.inf], np.nan, inplace=True)\n",
      "/tmp/ipykernel_56338/149702454.py:30: SettingWithCopyWarning: \n",
      "A value is trying to be set on a copy of a slice from a DataFrame\n",
      "\n",
      "See the caveats in the documentation: https://pandas.pydata.org/pandas-docs/stable/user_guide/indexing.html#returning-a-view-versus-a-copy\n",
      "  df[selected_scale_cols].fillna(df[selected_scale_cols].mean(), inplace=True)\n"
     ]
    },
    {
     "name": "stdout",
     "output_type": "stream",
     "text": [
      "technical, MSFT, 10y, 500\n",
      "/home/jupyter-tfg2425paula/prediction_project_v3/00_data/horizontal_structure/clean/technical/MSFT/10y_500_data.pkl\n",
      "technical, MSFT, 10y, 1000\n",
      "/home/jupyter-tfg2425paula/prediction_project_v3/00_data/horizontal_structure/clean/technical/MSFT/10y_1000_data.pkl\n"
     ]
    },
    {
     "name": "stderr",
     "output_type": "stream",
     "text": [
      "/tmp/ipykernel_56338/149702454.py:27: SettingWithCopyWarning: \n",
      "A value is trying to be set on a copy of a slice from a DataFrame\n",
      "\n",
      "See the caveats in the documentation: https://pandas.pydata.org/pandas-docs/stable/user_guide/indexing.html#returning-a-view-versus-a-copy\n",
      "  df[selected_scale_cols].replace([np.inf, -np.inf], np.nan, inplace=True)\n",
      "/tmp/ipykernel_56338/149702454.py:30: SettingWithCopyWarning: \n",
      "A value is trying to be set on a copy of a slice from a DataFrame\n",
      "\n",
      "See the caveats in the documentation: https://pandas.pydata.org/pandas-docs/stable/user_guide/indexing.html#returning-a-view-versus-a-copy\n",
      "  df[selected_scale_cols].fillna(df[selected_scale_cols].mean(), inplace=True)\n"
     ]
    },
    {
     "name": "stdout",
     "output_type": "stream",
     "text": [
      "technical, AMZN, 10y, 500\n",
      "/home/jupyter-tfg2425paula/prediction_project_v3/00_data/horizontal_structure/clean/technical/AMZN/10y_500_data.pkl\n",
      "technical, AMZN, 10y, 1000\n",
      "/home/jupyter-tfg2425paula/prediction_project_v3/00_data/horizontal_structure/clean/technical/AMZN/10y_1000_data.pkl\n"
     ]
    },
    {
     "name": "stderr",
     "output_type": "stream",
     "text": [
      "/tmp/ipykernel_56338/149702454.py:27: SettingWithCopyWarning: \n",
      "A value is trying to be set on a copy of a slice from a DataFrame\n",
      "\n",
      "See the caveats in the documentation: https://pandas.pydata.org/pandas-docs/stable/user_guide/indexing.html#returning-a-view-versus-a-copy\n",
      "  df[selected_scale_cols].replace([np.inf, -np.inf], np.nan, inplace=True)\n",
      "/tmp/ipykernel_56338/149702454.py:30: SettingWithCopyWarning: \n",
      "A value is trying to be set on a copy of a slice from a DataFrame\n",
      "\n",
      "See the caveats in the documentation: https://pandas.pydata.org/pandas-docs/stable/user_guide/indexing.html#returning-a-view-versus-a-copy\n",
      "  df[selected_scale_cols].fillna(df[selected_scale_cols].mean(), inplace=True)\n"
     ]
    },
    {
     "name": "stdout",
     "output_type": "stream",
     "text": [
      "technical, NVDA, 10y, 500\n",
      "/home/jupyter-tfg2425paula/prediction_project_v3/00_data/horizontal_structure/clean/technical/NVDA/10y_500_data.pkl\n",
      "technical, NVDA, 10y, 1000\n",
      "/home/jupyter-tfg2425paula/prediction_project_v3/00_data/horizontal_structure/clean/technical/NVDA/10y_1000_data.pkl\n"
     ]
    }
   ],
   "source": [
    "window_sizes = [500, 1000]\n",
    "for security_type in types_securities:\n",
    "    for stock in stocks:\n",
    "        for period in years:\n",
    "            input_df = pd.read_csv(os.path.join(clean_data_dir, f\"{security_type}/{stock}/{period}_data.csv\"))\n",
    "            input_df = input_df.drop(columns = [\"Date\"])\n",
    "            \n",
    "            # SCALE DATA FIRST\n",
    "            scaling_method = \"standard\"\n",
    "            selected_scale_cols = list(input_df.drop(columns=[\"Target\"]).columns)\n",
    "            scaled_df = scale_data(input_df, selected_scale_cols, scaling_method)\n",
    "            \n",
    "            for window_size in window_sizes:\n",
    "                print(f\"{security_type}, {stock}, {period}, {window_size}\")\n",
    "                sequential_data, targets = split_dataframe(scaled_df, target_column='Target', window_size=window_size)\n",
    "                reshaped_df = create_sequential_dataframe(sequential_data, targets)\n",
    "                \n",
    "                pkl_filename = f\"clean/{security_type}/{stock}/{period}_{window_size}_data.pkl\"\n",
    "                \n",
    "                output_filepath = os.path.join(horizontal_structure_data_dir, pkl_filename)\n",
    "                os.makedirs(os.path.dirname(output_filepath), exist_ok=True)\n",
    "                \n",
    "                print(output_filepath)\n",
    "                reshaped_df.to_pickle(output_filepath) "
   ]
  },
  {
   "cell_type": "code",
   "execution_count": null,
   "id": "c807b34f-3039-44df-bc53-aaf4b7036183",
   "metadata": {},
   "outputs": [],
   "source": []
  }
 ],
 "metadata": {
  "kernelspec": {
   "display_name": "Python 3 (ipykernel)",
   "language": "python",
   "name": "python3"
  },
  "language_info": {
   "codemirror_mode": {
    "name": "ipython",
    "version": 3
   },
   "file_extension": ".py",
   "mimetype": "text/x-python",
   "name": "python",
   "nbconvert_exporter": "python",
   "pygments_lexer": "ipython3",
   "version": "3.9.18"
  }
 },
 "nbformat": 4,
 "nbformat_minor": 5
}
